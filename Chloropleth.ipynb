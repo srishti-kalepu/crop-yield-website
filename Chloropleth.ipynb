{
 "cells": [
  {
   "cell_type": "code",
   "execution_count": 21,
   "metadata": {},
   "outputs": [
    {
     "name": "stdout",
     "output_type": "stream",
     "text": [
      "c:\\Users\\ksris\\anaconda3\\python.exe\n",
      "Collecting altair\n",
      "  Downloading altair-4.2.0-py3-none-any.whl (812 kB)\n",
      "     -------------------------------------- 812.8/812.8 kB 8.5 MB/s eta 0:00:00\n",
      "Requirement already satisfied: jsonschema>=3.0 in c:\\users\\ksris\\anaconda3\\lib\\site-packages (from altair) (4.16.0)\n",
      "Requirement already satisfied: toolz in c:\\users\\ksris\\anaconda3\\lib\\site-packages (from altair) (0.11.2)\n",
      "Requirement already satisfied: numpy in c:\\users\\ksris\\anaconda3\\lib\\site-packages (from altair) (1.21.5)\n",
      "Requirement already satisfied: entrypoints in c:\\users\\ksris\\anaconda3\\lib\\site-packages (from altair) (0.4)\n",
      "Requirement already satisfied: pandas>=0.18 in c:\\users\\ksris\\anaconda3\\lib\\site-packages (from altair) (1.4.4)\n",
      "Requirement already satisfied: jinja2 in c:\\users\\ksris\\anaconda3\\lib\\site-packages (from altair) (2.11.3)\n",
      "Requirement already satisfied: pyrsistent!=0.17.0,!=0.17.1,!=0.17.2,>=0.14.0 in c:\\users\\ksris\\anaconda3\\lib\\site-packages (from jsonschema>=3.0->altair) (0.18.0)\n",
      "Requirement already satisfied: attrs>=17.4.0 in c:\\users\\ksris\\anaconda3\\lib\\site-packages (from jsonschema>=3.0->altair) (21.4.0)\n",
      "Requirement already satisfied: python-dateutil>=2.8.1 in c:\\users\\ksris\\anaconda3\\lib\\site-packages (from pandas>=0.18->altair) (2.8.2)\n",
      "Requirement already satisfied: pytz>=2020.1 in c:\\users\\ksris\\anaconda3\\lib\\site-packages (from pandas>=0.18->altair) (2022.1)\n",
      "Requirement already satisfied: MarkupSafe>=0.23 in c:\\users\\ksris\\anaconda3\\lib\\site-packages (from jinja2->altair) (2.0.1)\n",
      "Requirement already satisfied: six>=1.5 in c:\\users\\ksris\\appdata\\roaming\\python\\python39\\site-packages (from python-dateutil>=2.8.1->pandas>=0.18->altair) (1.15.0)\n",
      "Installing collected packages: altair\n",
      "Successfully installed altair-4.2.0\n"
     ]
    }
   ],
   "source": [
    "import sys\n",
    "print(sys.executable)\n",
    "!{sys.executable} -m pip install altair "
   ]
  },
  {
   "cell_type": "code",
   "execution_count": 22,
   "metadata": {},
   "outputs": [],
   "source": [
    "import altair as alt\n",
    "import panel as pn"
   ]
  }
 ],
 "metadata": {
  "kernelspec": {
   "display_name": "Python 3.9.13 ('base')",
   "language": "python",
   "name": "python3"
  },
  "language_info": {
   "codemirror_mode": {
    "name": "ipython",
    "version": 3
   },
   "file_extension": ".py",
   "mimetype": "text/x-python",
   "name": "python",
   "nbconvert_exporter": "python",
   "pygments_lexer": "ipython3",
   "version": "3.9.13"
  },
  "orig_nbformat": 4,
  "vscode": {
   "interpreter": {
    "hash": "8ce2857015f12e830e75a3d0750928633f8b1c0cb8f220367f66eec09bd5829a"
   }
  }
 },
 "nbformat": 4,
 "nbformat_minor": 2
}
